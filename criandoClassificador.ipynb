{
	"cells": [
		{
			"cell_type": "code",
			"execution_count": 1,
			"metadata": {},
			"outputs": [
				{
					"name": "stdout",
					"output_type": "stream",
					"text": [
						"Requirement already satisfied: tensorflow in c:\\python311\\lib\\site-packages (2.14.0)\n",
						"Requirement already satisfied: tensorflow-intel==2.14.0 in c:\\python311\\lib\\site-packages (from tensorflow) (2.14.0)\n",
						"Requirement already satisfied: absl-py>=1.0.0 in c:\\python311\\lib\\site-packages (from tensorflow-intel==2.14.0->tensorflow) (2.0.0)\n",
						"Requirement already satisfied: astunparse>=1.6.0 in c:\\python311\\lib\\site-packages (from tensorflow-intel==2.14.0->tensorflow) (1.6.3)\n",
						"Requirement already satisfied: flatbuffers>=23.5.26 in c:\\python311\\lib\\site-packages (from tensorflow-intel==2.14.0->tensorflow) (23.5.26)\n",
						"Requirement already satisfied: gast!=0.5.0,!=0.5.1,!=0.5.2,>=0.2.1 in c:\\python311\\lib\\site-packages (from tensorflow-intel==2.14.0->tensorflow) (0.5.4)\n",
						"Requirement already satisfied: google-pasta>=0.1.1 in c:\\python311\\lib\\site-packages (from tensorflow-intel==2.14.0->tensorflow) (0.2.0)\n",
						"Requirement already satisfied: h5py>=2.9.0 in c:\\python311\\lib\\site-packages (from tensorflow-intel==2.14.0->tensorflow) (3.10.0)\n",
						"Requirement already satisfied: libclang>=13.0.0 in c:\\python311\\lib\\site-packages (from tensorflow-intel==2.14.0->tensorflow) (16.0.6)\n",
						"Requirement already satisfied: ml-dtypes==0.2.0 in c:\\python311\\lib\\site-packages (from tensorflow-intel==2.14.0->tensorflow) (0.2.0)\n",
						"Requirement already satisfied: numpy>=1.23.5 in c:\\python311\\lib\\site-packages (from tensorflow-intel==2.14.0->tensorflow) (1.25.2)\n",
						"Requirement already satisfied: opt-einsum>=2.3.2 in c:\\python311\\lib\\site-packages (from tensorflow-intel==2.14.0->tensorflow) (3.3.0)\n",
						"Requirement already satisfied: packaging in c:\\users\\administrator\\appdata\\roaming\\python\\python311\\site-packages (from tensorflow-intel==2.14.0->tensorflow) (23.1)\n",
						"Requirement already satisfied: protobuf!=4.21.0,!=4.21.1,!=4.21.2,!=4.21.3,!=4.21.4,!=4.21.5,<5.0.0dev,>=3.20.3 in c:\\python311\\lib\\site-packages (from tensorflow-intel==2.14.0->tensorflow) (4.25.0)\n",
						"Requirement already satisfied: setuptools in c:\\python311\\lib\\site-packages (from tensorflow-intel==2.14.0->tensorflow) (65.5.0)\n",
						"Requirement already satisfied: six>=1.12.0 in c:\\users\\administrator\\appdata\\roaming\\python\\python311\\site-packages (from tensorflow-intel==2.14.0->tensorflow) (1.16.0)\n",
						"Requirement already satisfied: termcolor>=1.1.0 in c:\\python311\\lib\\site-packages (from tensorflow-intel==2.14.0->tensorflow) (2.3.0)\n",
						"Requirement already satisfied: typing-extensions>=3.6.6 in c:\\python311\\lib\\site-packages (from tensorflow-intel==2.14.0->tensorflow) (4.8.0)\n",
						"Requirement already satisfied: wrapt<1.15,>=1.11.0 in c:\\python311\\lib\\site-packages (from tensorflow-intel==2.14.0->tensorflow) (1.14.1)\n",
						"Requirement already satisfied: tensorflow-io-gcs-filesystem>=0.23.1 in c:\\python311\\lib\\site-packages (from tensorflow-intel==2.14.0->tensorflow) (0.31.0)\n",
						"Requirement already satisfied: grpcio<2.0,>=1.24.3 in c:\\python311\\lib\\site-packages (from tensorflow-intel==2.14.0->tensorflow) (1.59.2)\n",
						"Requirement already satisfied: tensorboard<2.15,>=2.14 in c:\\python311\\lib\\site-packages (from tensorflow-intel==2.14.0->tensorflow) (2.14.1)\n",
						"Requirement already satisfied: tensorflow-estimator<2.15,>=2.14.0 in c:\\python311\\lib\\site-packages (from tensorflow-intel==2.14.0->tensorflow) (2.14.0)\n",
						"Requirement already satisfied: keras<2.15,>=2.14.0 in c:\\python311\\lib\\site-packages (from tensorflow-intel==2.14.0->tensorflow) (2.14.0)\n",
						"Requirement already satisfied: wheel<1.0,>=0.23.0 in c:\\python311\\lib\\site-packages (from astunparse>=1.6.0->tensorflow-intel==2.14.0->tensorflow) (0.41.3)\n",
						"Requirement already satisfied: google-auth<3,>=1.6.3 in c:\\python311\\lib\\site-packages (from tensorboard<2.15,>=2.14->tensorflow-intel==2.14.0->tensorflow) (2.23.4)\n",
						"Requirement already satisfied: google-auth-oauthlib<1.1,>=0.5 in c:\\python311\\lib\\site-packages (from tensorboard<2.15,>=2.14->tensorflow-intel==2.14.0->tensorflow) (1.0.0)\n",
						"Requirement already satisfied: markdown>=2.6.8 in c:\\python311\\lib\\site-packages (from tensorboard<2.15,>=2.14->tensorflow-intel==2.14.0->tensorflow) (3.5.1)\n",
						"Requirement already satisfied: requests<3,>=2.21.0 in c:\\python311\\lib\\site-packages (from tensorboard<2.15,>=2.14->tensorflow-intel==2.14.0->tensorflow) (2.31.0)\n",
						"Requirement already satisfied: tensorboard-data-server<0.8.0,>=0.7.0 in c:\\python311\\lib\\site-packages (from tensorboard<2.15,>=2.14->tensorflow-intel==2.14.0->tensorflow) (0.7.2)\n",
						"Requirement already satisfied: werkzeug>=1.0.1 in c:\\python311\\lib\\site-packages (from tensorboard<2.15,>=2.14->tensorflow-intel==2.14.0->tensorflow) (3.0.1)\n",
						"Requirement already satisfied: cachetools<6.0,>=2.0.0 in c:\\python311\\lib\\site-packages (from google-auth<3,>=1.6.3->tensorboard<2.15,>=2.14->tensorflow-intel==2.14.0->tensorflow) (5.3.2)\n",
						"Requirement already satisfied: pyasn1-modules>=0.2.1 in c:\\python311\\lib\\site-packages (from google-auth<3,>=1.6.3->tensorboard<2.15,>=2.14->tensorflow-intel==2.14.0->tensorflow) (0.3.0)\n",
						"Requirement already satisfied: rsa<5,>=3.1.4 in c:\\python311\\lib\\site-packages (from google-auth<3,>=1.6.3->tensorboard<2.15,>=2.14->tensorflow-intel==2.14.0->tensorflow) (4.9)\n",
						"Requirement already satisfied: requests-oauthlib>=0.7.0 in c:\\python311\\lib\\site-packages (from google-auth-oauthlib<1.1,>=0.5->tensorboard<2.15,>=2.14->tensorflow-intel==2.14.0->tensorflow) (1.3.1)\n",
						"Requirement already satisfied: charset-normalizer<4,>=2 in c:\\python311\\lib\\site-packages (from requests<3,>=2.21.0->tensorboard<2.15,>=2.14->tensorflow-intel==2.14.0->tensorflow) (3.3.2)\n",
						"Requirement already satisfied: idna<4,>=2.5 in c:\\python311\\lib\\site-packages (from requests<3,>=2.21.0->tensorboard<2.15,>=2.14->tensorflow-intel==2.14.0->tensorflow) (3.4)\n",
						"Requirement already satisfied: urllib3<3,>=1.21.1 in c:\\python311\\lib\\site-packages (from requests<3,>=2.21.0->tensorboard<2.15,>=2.14->tensorflow-intel==2.14.0->tensorflow) (2.0.7)\n",
						"Requirement already satisfied: certifi>=2017.4.17 in c:\\python311\\lib\\site-packages (from requests<3,>=2.21.0->tensorboard<2.15,>=2.14->tensorflow-intel==2.14.0->tensorflow) (2023.7.22)\n",
						"Requirement already satisfied: MarkupSafe>=2.1.1 in c:\\python311\\lib\\site-packages (from werkzeug>=1.0.1->tensorboard<2.15,>=2.14->tensorflow-intel==2.14.0->tensorflow) (2.1.3)\n",
						"Requirement already satisfied: pyasn1<0.6.0,>=0.4.6 in c:\\python311\\lib\\site-packages (from pyasn1-modules>=0.2.1->google-auth<3,>=1.6.3->tensorboard<2.15,>=2.14->tensorflow-intel==2.14.0->tensorflow) (0.5.0)\n",
						"Requirement already satisfied: oauthlib>=3.0.0 in c:\\python311\\lib\\site-packages (from requests-oauthlib>=0.7.0->google-auth-oauthlib<1.1,>=0.5->tensorboard<2.15,>=2.14->tensorflow-intel==2.14.0->tensorflow) (3.2.2)\n"
					]
				},
				{
					"name": "stderr",
					"output_type": "stream",
					"text": [
						"\n",
						"[notice] A new release of pip is available: 23.1.2 -> 23.3.1\n",
						"[notice] To update, run: python.exe -m pip install --upgrade pip\n"
					]
				}
			],
			"source": [
				"!pip install tensorflow"
			]
		},
		{
			"cell_type": "code",
			"execution_count": 2,
			"metadata": {},
			"outputs": [
				{
					"name": "stdout",
					"output_type": "stream",
					"text": [
						"Requirement already satisfied: scipy in c:\\python311\\lib\\site-packages (1.11.3)\n",
						"Requirement already satisfied: numpy<1.28.0,>=1.21.6 in c:\\python311\\lib\\site-packages (from scipy) (1.25.2)\n"
					]
				},
				{
					"name": "stderr",
					"output_type": "stream",
					"text": [
						"\n",
						"[notice] A new release of pip is available: 23.1.2 -> 23.3.1\n",
						"[notice] To update, run: python.exe -m pip install --upgrade pip\n"
					]
				}
			],
			"source": [
				"!pip install scipy"
			]
		},
		{
			"cell_type": "code",
			"execution_count": 3,
			"metadata": {},
			"outputs": [],
			"source": [
				"import tensorflow as tf\n",
				"import scipy, numpy\n",
				"\n",
				"from tensorflow.keras.preprocessing.image import ImageDataGenerator\n",
				"from tensorflow.keras.models import Sequential\n",
				"from tensorflow.keras.layers import Conv2D, MaxPooling2D, Flatten, Dense, Dropout"
			]
		},
		{
			"cell_type": "code",
			"execution_count": 4,
			"metadata": {},
			"outputs": [],
			"source": [
				"# Caminhos para as pastas de dados\n",
				"train_data_dir = './data'\n",
				"batch_size = 32 # ***\n",
				"image_size = (150, 150)\n",
				"num_epochs = 50\n",
				"num_classes = 2"
			]
		},
		{
			"cell_type": "code",
			"execution_count": 7,
			"metadata": {},
			"outputs": [],
			"source": [
				"# Crie geradores de dados de treinamento\n",
				"train_datagen = ImageDataGenerator(\n",
				"    rescale=1.0 / 255, # Normalização das imagens\n",
				"    validation_split=0.25,  # Define a divisão de validação\n",
				"    shear_range=0.2,\n",
				"    zoom_range=0.2,\n",
				"    horizontal_flip=True)    "
			]
		},
		{
			"cell_type": "code",
			"execution_count": 8,
			"metadata": {},
			"outputs": [
				{
					"name": "stdout",
					"output_type": "stream",
					"text": [
						"Found 16 images belonging to 2 classes.\n"
					]
				}
			],
			"source": [
				"train_generator = train_datagen.flow_from_directory(\n",
				"    train_data_dir,\n",
				"    target_size=image_size,\n",
				"    batch_size=batch_size,\n",
				"    class_mode='binary',\n",
				"    subset='training'\n",
				")"
			]
		},
		{
			"cell_type": "code",
			"execution_count": 9,
			"metadata": {},
			"outputs": [
				{
					"name": "stdout",
					"output_type": "stream",
					"text": [
						"Found 4 images belonging to 2 classes.\n"
					]
				}
			],
			"source": [
				"validation_generator = train_datagen.flow_from_directory(\n",
				"    train_data_dir,\n",
				"    target_size=image_size,\n",
				"    batch_size=batch_size,\n",
				"    class_mode='binary',\n",
				"    subset='validation'\n",
				")"
			]
		},
		{
			"cell_type": "code",
			"execution_count": 10,
			"metadata": {},
			"outputs": [],
			"source": [
				"model = Sequential()\n",
				"model.add(Conv2D(32, (3, 3), input_shape=(image_size[0], image_size[1], 3), activation='relu'))\n",
				"model.add(MaxPooling2D(pool_size=(2, 2)))\n",
				"model.add(Conv2D(64, (3, 3), activation='relu'))\n",
				"model.add(MaxPooling2D(pool_size=(2, 2)))\n",
				"model.add(Flatten())\n",
				"model.add(Dense(64, activation='relu'))\n",
				"model.add(Dropout(0.5))\n",
				"model.add(Dense(1, activation='sigmoid'))  # Camada de saída com 1 unidade para classificação binária"
			]
		},
		{
			"cell_type": "code",
			"execution_count": 11,
			"metadata": {},
			"outputs": [],
			"source": [
				"# Compile o modelo\n",
				"model.compile(loss='binary_crossentropy',\n",
				"              optimizer='adam',\n",
				"              metrics=['accuracy'])"
			]
		},
		{
			"cell_type": "code",
			"execution_count": 13,
			"metadata": {},
			"outputs": [
				{
					"name": "stdout",
					"output_type": "stream",
					"text": [
						"Epoch 1/50\n",
						"1/1 [==============================] - 0s 495ms/step - loss: 0.0571 - accuracy: 0.9375 - val_loss: 0.8636 - val_accuracy: 0.7500\n",
						"Epoch 2/50\n",
						"1/1 [==============================] - 0s 439ms/step - loss: 0.0110 - accuracy: 1.0000 - val_loss: 1.0507 - val_accuracy: 0.7500\n",
						"Epoch 3/50\n",
						"1/1 [==============================] - 0s 432ms/step - loss: 0.0487 - accuracy: 1.0000 - val_loss: 1.2317 - val_accuracy: 0.7500\n",
						"Epoch 4/50\n",
						"1/1 [==============================] - 0s 429ms/step - loss: 0.0099 - accuracy: 1.0000 - val_loss: 1.0041 - val_accuracy: 0.7500\n",
						"Epoch 5/50\n",
						"1/1 [==============================] - 0s 448ms/step - loss: 0.0280 - accuracy: 1.0000 - val_loss: 1.3057 - val_accuracy: 0.7500\n",
						"Epoch 6/50\n",
						"1/1 [==============================] - 0s 411ms/step - loss: 0.0060 - accuracy: 1.0000 - val_loss: 0.7562 - val_accuracy: 0.7500\n",
						"Epoch 7/50\n",
						"1/1 [==============================] - 0s 442ms/step - loss: 0.0109 - accuracy: 1.0000 - val_loss: 1.1251 - val_accuracy: 0.7500\n",
						"Epoch 8/50\n",
						"1/1 [==============================] - 0s 422ms/step - loss: 0.0086 - accuracy: 1.0000 - val_loss: 0.9647 - val_accuracy: 0.7500\n",
						"Epoch 9/50\n",
						"1/1 [==============================] - 0s 424ms/step - loss: 0.0035 - accuracy: 1.0000 - val_loss: 1.0322 - val_accuracy: 0.7500\n",
						"Epoch 10/50\n",
						"1/1 [==============================] - 0s 431ms/step - loss: 0.0016 - accuracy: 1.0000 - val_loss: 0.7028 - val_accuracy: 0.7500\n",
						"Epoch 11/50\n",
						"1/1 [==============================] - 0s 413ms/step - loss: 0.0105 - accuracy: 1.0000 - val_loss: 0.8348 - val_accuracy: 0.5000\n",
						"Epoch 12/50\n",
						"1/1 [==============================] - 0s 444ms/step - loss: 0.0025 - accuracy: 1.0000 - val_loss: 1.0070 - val_accuracy: 0.7500\n",
						"Epoch 13/50\n",
						"1/1 [==============================] - 0s 421ms/step - loss: 0.0562 - accuracy: 1.0000 - val_loss: 1.2558 - val_accuracy: 0.7500\n",
						"Epoch 14/50\n",
						"1/1 [==============================] - 0s 442ms/step - loss: 0.0751 - accuracy: 0.9375 - val_loss: 1.5689 - val_accuracy: 0.7500\n",
						"Epoch 15/50\n",
						"1/1 [==============================] - 0s 425ms/step - loss: 0.0061 - accuracy: 1.0000 - val_loss: 2.1005 - val_accuracy: 0.7500\n",
						"Epoch 16/50\n",
						"1/1 [==============================] - 0s 433ms/step - loss: 0.0028 - accuracy: 1.0000 - val_loss: 2.0515 - val_accuracy: 0.7500\n",
						"Epoch 17/50\n",
						"1/1 [==============================] - 0s 426ms/step - loss: 0.1598 - accuracy: 0.9375 - val_loss: 1.8839 - val_accuracy: 0.7500\n",
						"Epoch 18/50\n",
						"1/1 [==============================] - 0s 422ms/step - loss: 0.0617 - accuracy: 1.0000 - val_loss: 1.4610 - val_accuracy: 0.7500\n",
						"Epoch 19/50\n",
						"1/1 [==============================] - 0s 420ms/step - loss: 0.0248 - accuracy: 1.0000 - val_loss: 1.4312 - val_accuracy: 0.7500\n",
						"Epoch 20/50\n",
						"1/1 [==============================] - 0s 419ms/step - loss: 0.0565 - accuracy: 0.9375 - val_loss: 1.0557 - val_accuracy: 0.7500\n",
						"Epoch 21/50\n",
						"1/1 [==============================] - 0s 421ms/step - loss: 0.0148 - accuracy: 1.0000 - val_loss: 1.0803 - val_accuracy: 0.7500\n",
						"Epoch 22/50\n",
						"1/1 [==============================] - 0s 421ms/step - loss: 0.0169 - accuracy: 1.0000 - val_loss: 0.6737 - val_accuracy: 0.7500\n",
						"Epoch 23/50\n",
						"1/1 [==============================] - 0s 444ms/step - loss: 0.0188 - accuracy: 1.0000 - val_loss: 1.0427 - val_accuracy: 0.7500\n",
						"Epoch 24/50\n",
						"1/1 [==============================] - 0s 477ms/step - loss: 0.0430 - accuracy: 1.0000 - val_loss: 1.0414 - val_accuracy: 0.5000\n",
						"Epoch 25/50\n",
						"1/1 [==============================] - 0s 419ms/step - loss: 0.0094 - accuracy: 1.0000 - val_loss: 1.2773 - val_accuracy: 0.7500\n",
						"Epoch 26/50\n",
						"1/1 [==============================] - 0s 444ms/step - loss: 0.0114 - accuracy: 1.0000 - val_loss: 1.3939 - val_accuracy: 0.7500\n",
						"Epoch 27/50\n",
						"1/1 [==============================] - 0s 444ms/step - loss: 0.0292 - accuracy: 1.0000 - val_loss: 1.7125 - val_accuracy: 0.7500\n",
						"Epoch 28/50\n",
						"1/1 [==============================] - 0s 444ms/step - loss: 0.0120 - accuracy: 1.0000 - val_loss: 1.6090 - val_accuracy: 0.7500\n",
						"Epoch 29/50\n",
						"1/1 [==============================] - 0s 426ms/step - loss: 0.0042 - accuracy: 1.0000 - val_loss: 1.6281 - val_accuracy: 0.7500\n",
						"Epoch 30/50\n",
						"1/1 [==============================] - 0s 427ms/step - loss: 0.0120 - accuracy: 1.0000 - val_loss: 1.9035 - val_accuracy: 0.7500\n",
						"Epoch 31/50\n",
						"1/1 [==============================] - 0s 433ms/step - loss: 0.0171 - accuracy: 1.0000 - val_loss: 1.9789 - val_accuracy: 0.7500\n",
						"Epoch 32/50\n",
						"1/1 [==============================] - 0s 433ms/step - loss: 0.0583 - accuracy: 1.0000 - val_loss: 1.8944 - val_accuracy: 0.7500\n",
						"Epoch 33/50\n",
						"1/1 [==============================] - 0s 441ms/step - loss: 0.0272 - accuracy: 1.0000 - val_loss: 1.7368 - val_accuracy: 0.7500\n",
						"Epoch 34/50\n",
						"1/1 [==============================] - 1s 537ms/step - loss: 0.0239 - accuracy: 1.0000 - val_loss: 1.2911 - val_accuracy: 0.7500\n",
						"Epoch 35/50\n",
						"1/1 [==============================] - 0s 454ms/step - loss: 0.0106 - accuracy: 1.0000 - val_loss: 0.9344 - val_accuracy: 0.7500\n",
						"Epoch 36/50\n",
						"1/1 [==============================] - 0s 441ms/step - loss: 0.0424 - accuracy: 1.0000 - val_loss: 0.8659 - val_accuracy: 0.7500\n",
						"Epoch 37/50\n",
						"1/1 [==============================] - 0s 420ms/step - loss: 0.0532 - accuracy: 1.0000 - val_loss: 0.9270 - val_accuracy: 0.7500\n",
						"Epoch 38/50\n",
						"1/1 [==============================] - 0s 417ms/step - loss: 0.0253 - accuracy: 1.0000 - val_loss: 1.1758 - val_accuracy: 0.7500\n",
						"Epoch 39/50\n",
						"1/1 [==============================] - 0s 418ms/step - loss: 0.0207 - accuracy: 1.0000 - val_loss: 1.8048 - val_accuracy: 0.7500\n",
						"Epoch 40/50\n",
						"1/1 [==============================] - 0s 421ms/step - loss: 0.0036 - accuracy: 1.0000 - val_loss: 1.9471 - val_accuracy: 0.7500\n",
						"Epoch 41/50\n",
						"1/1 [==============================] - 0s 422ms/step - loss: 0.0089 - accuracy: 1.0000 - val_loss: 1.7103 - val_accuracy: 0.7500\n",
						"Epoch 42/50\n",
						"1/1 [==============================] - 0s 417ms/step - loss: 0.0156 - accuracy: 1.0000 - val_loss: 2.0160 - val_accuracy: 0.7500\n",
						"Epoch 43/50\n",
						"1/1 [==============================] - 0s 422ms/step - loss: 0.0207 - accuracy: 1.0000 - val_loss: 2.0151 - val_accuracy: 0.7500\n",
						"Epoch 44/50\n",
						"1/1 [==============================] - 0s 425ms/step - loss: 0.0341 - accuracy: 1.0000 - val_loss: 1.9168 - val_accuracy: 0.7500\n",
						"Epoch 45/50\n",
						"1/1 [==============================] - 0s 424ms/step - loss: 0.0207 - accuracy: 1.0000 - val_loss: 1.6044 - val_accuracy: 0.7500\n",
						"Epoch 46/50\n",
						"1/1 [==============================] - 0s 428ms/step - loss: 0.0043 - accuracy: 1.0000 - val_loss: 1.3872 - val_accuracy: 0.7500\n",
						"Epoch 47/50\n",
						"1/1 [==============================] - 0s 427ms/step - loss: 0.0064 - accuracy: 1.0000 - val_loss: 1.3097 - val_accuracy: 0.5000\n",
						"Epoch 48/50\n",
						"1/1 [==============================] - 0s 420ms/step - loss: 0.0115 - accuracy: 1.0000 - val_loss: 0.4811 - val_accuracy: 0.7500\n",
						"Epoch 49/50\n",
						"1/1 [==============================] - 0s 412ms/step - loss: 0.0085 - accuracy: 1.0000 - val_loss: 0.5228 - val_accuracy: 0.7500\n",
						"Epoch 50/50\n",
						"1/1 [==============================] - 0s 414ms/step - loss: 0.0129 - accuracy: 1.0000 - val_loss: 0.3954 - val_accuracy: 0.7500\n",
						"Modelo salvo com sucesso!\n"
					]
				},
				{
					"name": "stderr",
					"output_type": "stream",
					"text": [
						"c:\\Python311\\Lib\\site-packages\\keras\\src\\engine\\training.py:3079: UserWarning: You are saving your model as an HDF5 file via `model.save()`. This file format is considered legacy. We recommend using instead the native Keras format, e.g. `model.save('my_model.keras')`.\n",
						"  saving_api.save_model(\n"
					]
				}
			],
			"source": [
				"# Treine o modelo\n",
				"model.fit(\n",
				"    train_generator,\n",
				"    epochs=num_epochs,\n",
				"    validation_data=validation_generator)\n",
				"\n",
				"# Salve o modelo treinados\n",
				"model.save('./models/cfModeloTales.h5')\n",
				"\n",
				"print('Modelo salvo com sucesso!')"
			]
		}
	],
	"metadata": {
		"kernelspec": {
			"display_name": "base",
			"language": "python",
			"name": "python3"
		},
		"language_info": {
			"codemirror_mode": {
				"name": "ipython",
				"version": 3
			},
			"file_extension": ".py",
			"mimetype": "text/x-python",
			"name": "python",
			"nbconvert_exporter": "python",
			"pygments_lexer": "ipython3",
			"version": "3.11.4"
		}
	},
	"nbformat": 4,
	"nbformat_minor": 2
}
