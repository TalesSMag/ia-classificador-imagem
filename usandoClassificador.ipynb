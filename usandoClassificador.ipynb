{
	"cells": [
		{
			"cell_type": "code",
			"execution_count": 2,
			"metadata": {},
			"outputs": [],
			"source": [
				"import os\n",
				"import tensorflow as tf\n",
				"from tensorflow.keras.preprocessing import image\n",
				"import numpy as np"
			]
		},
		{
			"cell_type": "code",
			"execution_count": 6,
			"metadata": {},
			"outputs": [
				{
					"name": "stdout",
					"output_type": "stream",
					"text": [
						"1/1 [==============================] - 0s 69ms/step\n"
					]
				}
			],
			"source": [
				"# Carregue o modelo treinado\n",
				"model = tf.keras.models.load_model('./models/cfModeloTales.h5')\n",
				"\n",
				"# Carregue uma nova imagem para classificação\n",
				"new_image_path = './test/hatch1-test.jpg'  # Substitua 'nova_imagem.jpg' pelo nome da sua nova imagem\n",
				"\n",
				"# Pré-processe a nova imagem\n",
				"img = image.load_img(new_image_path, target_size=(150, 150))\n",
				"img = image.img_to_array(img)\n",
				"img = np.expand_dims(img, axis=0)\n",
				"img = img / 255.0  # Normalize a imagem (igual ao pré-processamento durante o treinamento)\n",
				"\n",
				"# Faça a previsão usando o modelo carregado\n",
				"prediction = model.predict(img)"
			]
		},
		{
			"cell_type": "code",
			"execution_count": 7,
			"metadata": {},
			"outputs": [
				{
					"name": "stdout",
					"output_type": "stream",
					"text": [
						"100.00\n",
						"Classe 1, um hatch\n"
					]
				},
				{
					"name": "stderr",
					"output_type": "stream",
					"text": [
						"C:\\Users\\Administrator\\AppData\\Local\\Temp\\ipykernel_7508\\2416157422.py:2: DeprecationWarning: Conversion of an array with ndim > 0 to a scalar is deprecated, and will error in future. Ensure you extract a single element from your array before performing this operation. (Deprecated NumPy 1.25.)\n",
						"  print(f'%.2f' % (prediction * 100))\n"
					]
				}
			],
			"source": [
				"# Classifique a previsão\n",
				"print(f'%.2f' % (prediction * 100))\n",
				"\n",
				"if prediction < 0.5:\n",
				"    print(\"Classe 0, um sedan\")  # Defina a classe correspondente\n",
				"else:\n",
				"    print(\"Classe 1, um hatch\")  # Defina a classe correspondente\n"
			]
		},
		{
			"cell_type": "code",
			"execution_count": 8,
			"metadata": {},
			"outputs": [
				{
					"name": "stdout",
					"output_type": "stream",
					"text": [
						"hatch1-test.jpg\n",
						"1/1 [==============================] - 0s 24ms/step\n",
						"Classe 1, um hatch\n",
						"1.00\n",
						"\n",
						"hatch2-test.jpg\n",
						"1/1 [==============================] - 0s 33ms/step\n",
						"Classe 0, um sedan\n",
						"0.00\n",
						"\n",
						"hatch3-test.jpg\n",
						"1/1 [==============================] - 0s 32ms/step\n",
						"Classe 0, um sedan\n",
						"0.00\n",
						"\n",
						"sedan1-test.jpg\n",
						"1/1 [==============================] - ETA: 0s"
					]
				},
				{
					"name": "stderr",
					"output_type": "stream",
					"text": [
						"C:\\Users\\Administrator\\AppData\\Local\\Temp\\ipykernel_7508\\949643359.py:25: DeprecationWarning: Conversion of an array with ndim > 0 to a scalar is deprecated, and will error in future. Ensure you extract a single element from your array before performing this operation. (Deprecated NumPy 1.25.)\n",
						"  print(f'%.2f\\n' % (prediction))\n"
					]
				},
				{
					"name": "stdout",
					"output_type": "stream",
					"text": [
						"1/1 [==============================] - 0s 26ms/step\n",
						"Classe 0, um sedan\n",
						"0.00\n",
						"\n",
						"sedan2-test.jpg\n",
						"1/1 [==============================] - 0s 91ms/step\n",
						"Classe 0, um sedan\n",
						"0.26\n",
						"\n",
						"sedan3-test.jpg\n",
						"1/1 [==============================] - 0s 28ms/step\n",
						"Classe 0, um sedan\n",
						"0.21\n",
						"\n"
					]
				}
			],
			"source": [
				"# Diretório de imagens de teste\n",
				"test_directory = './test'  # Substitua 'data/test' pelo caminho para a pasta de teste\n",
				"\n",
				"# Percorra todas as imagens na pasta de teste\n",
				"for filename in os.listdir(test_directory):\n",
				"    if filename.endswith(\".jpg\") or filename.endswith(\".jpeg\"):\n",
				"        print(filename)\n",
				"        # Caminho completo para a imagem de teste\n",
				"        image_path = os.path.join(test_directory, filename)\n",
				"\n",
				"        # Pré-processe a imagem de teste\n",
				"        img = image.load_img(image_path, target_size=(150, 150))\n",
				"        img = image.img_to_array(img)\n",
				"        img = np.expand_dims(img, axis=0)\n",
				"        img = img / 255.0  # Normalize a imagem (igual ao pré-processamento durante o treinamento)\n",
				"\n",
				"        # Faça a previsão usando o modelo carregado\n",
				"        prediction = model.predict(img)\n",
				"\n",
				"        if prediction < 0.5:\n",
				"            print(\"Classe 0, um sedan\")  # Defina a classe correspondente\n",
				"        else:\n",
				"            print(\"Classe 1, um hatch\")  # Defina a classe correspondente\n",
				"                # Classifique a previsão\n",
				"        print(f'%.2f\\n' % (prediction))"
			]
		}
	],
	"metadata": {
		"kernelspec": {
			"display_name": "base",
			"language": "python",
			"name": "python3"
		},
		"language_info": {
			"codemirror_mode": {
				"name": "ipython",
				"version": 3
			},
			"file_extension": ".py",
			"mimetype": "text/x-python",
			"name": "python",
			"nbconvert_exporter": "python",
			"pygments_lexer": "ipython3",
			"version": "3.11.4"
		}
	},
	"nbformat": 4,
	"nbformat_minor": 2
}
